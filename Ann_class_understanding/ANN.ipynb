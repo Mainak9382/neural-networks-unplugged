{
 "cells": [
  {
   "cell_type": "markdown",
   "id": "aaf44bc1",
   "metadata": {},
   "source": [
    "# Introduction\n",
    "\n",
    "Artificial Neural Networks (ANNs) are one of the most fundamental concepts in the field of machine learning and artificial intelligence. They are inspired by the structure and functionality of the human brain and are designed to recognize patterns, make predictions, and solve complex computational problems.\n",
    "\n",
    "This project is aimed at learning the inner workings of an ANN by implementing it from scratch using Python. Unlike using pre-built libraries such as TensorFlow or PyTorch, building an ANN manually helps solidify understanding of key concepts like forward propagation, backward propagation, activation functions, and optimization algorithms. The project is solely for learning purposes, focusing on the foundational elements that make up a neural network.\n"
   ]
  },
  {
   "cell_type": "markdown",
   "id": "60dcabd9",
   "metadata": {},
   "source": [
    "# Objectives:\n",
    "\n",
    "To understand the mechanics of how neural networks work.\n",
    "\n",
    "To implement key components such as layers, activation functions, loss functions, and optimizers.\n",
    "\n",
    "To gain hands-on experience in building and training a model from scratch."
   ]
  },
  {
   "cell_type": "markdown",
   "id": "6929ffc1",
   "metadata": {},
   "source": [
    "# Steps to Build the ANN\n",
    "\n",
    "1. Define the Problem and Dataset\n",
    "\n",
    "    Focus on a regression problem.\n",
    "\n",
    "    Prepare the dataset by normalizing features and splitting it into training and testing sets.\n",
    "    \n",
    "\n",
    "2. Design the Network Architecture\n",
    "\n",
    "   Choose the number of input features, hidden layers, and one output neuron for regression.\n",
    "\n",
    "   Use activation functions such as ReLU for hidden layers and a linear activation for the output layer.\n",
    "   \n",
    "\n",
    "3. Initialize Weights and Biases\n",
    "\n",
    "    Randomly initialize weights and biases for all layers.\n",
    "\n",
    "    Ensure appropriate initialization to avoid vanishing or exploding gradients.\n",
    "    \n",
    "\n",
    "4. Implement Forward Propagation\n",
    "\n",
    "   Compute the weighted sum of inputs and apply activation functions for each layer.\n",
    "\n",
    "   Produce a continuous output value suitable for regression tasks.\n",
    "   \n",
    "\n",
    "5. Define the Loss Function\n",
    "\n",
    "   Use Mean Squared Error (MSE) as the loss function.\n",
    "\n",
    "   Calculate the average squared difference between predicted and actual values.\n",
    "   \n",
    "\n",
    "6. Implement Backward Propagation\n",
    "\n",
    "    Derive gradients of the MSE loss function with respect to weights and biases.\n",
    "\n",
    "    Use the chain rule to propagate errors backward through the network.\n",
    "\n",
    "    Implement gradient descent to update weights and biases. Include detailed comments or explanations on how gradients are  \n",
    "    computed for each layer.\n",
    "\n",
    "\n",
    "\n",
    "7. Train the Network\n",
    "\n",
    "    Iterate through multiple epochs, performing forward and backward propagation for each batch of data.\n",
    "\n",
    "    Adjust weights using the gradients computed during backpropagation.\n",
    "\n",
    "    Monitor training loss to ensure the model is learning."
   ]
  },
  {
   "cell_type": "markdown",
   "id": "9d01741f",
   "metadata": {},
   "source": [
    "# Some Important Website Link\n",
    "1. For vizualizing work of  Neural Network:\n",
    "https://playground.tensorflow.org/#activation=tanh&batchSize=10&dataset=circle&regDataset=reg-plane&learningRate=0.03&regularizationRate=0&noise=0&networkShape=4,2&seed=0.18761&showTestData=false&discretize=false&percTrainData=50&x=true&y=true&xTimesY=false&xSquared=false&ySquared=false&cosX=false&sinX=false&cosY=false&sinY=false&collectStats=false&problem=classification&initZero=false&hideText=false\n",
    "2. for creating neural network:https://alexlenail.me/NN-SVG/"
   ]
  },
  {
   "cell_type": "markdown",
   "id": "e3b39e19",
   "metadata": {},
   "source": [
    "# Data Set Generation "
   ]
  },
  {
   "cell_type": "code",
   "execution_count": 84,
   "id": "19b261f3",
   "metadata": {},
   "outputs": [
    {
     "name": "stdout",
     "output_type": "stream",
     "text": [
      "          X         Y          Z\n",
      "0  3.745401  1.559945  11.231689\n",
      "1  9.507143  0.580836  21.841915\n",
      "2  7.319939  8.661761  39.698328\n",
      "3  5.986585  6.011150  29.075161\n",
      "4  1.560186  7.080726  24.846475\n"
     ]
    }
   ],
   "source": [
    "import pandas as pd\n",
    "import numpy as np\n",
    "\n",
    "# Seed for reproducibility\n",
    "np.random.seed(42)\n",
    "\n",
    "# Generate random data for X and Y\n",
    "X = np.random.uniform(0, 10,5)  # X values between 0 and 100\n",
    "Y = np.random.uniform(0, 10,5)  # Y values between 0 and 50\n",
    "\n",
    "# Generate Z as a target variable with a linear relationship and some noise\n",
    "Z = 2 * X + 3 * Y + np.random.normal(0,2,5)  # Z = 2*X + 3*Y + noise\n",
    "\n",
    "# Convert data into a DataFrame\n",
    "dataset = pd.DataFrame({\n",
    "    'X': X,\n",
    "    'Y': Y,\n",
    "    'Z': Z\n",
    "})\n",
    "\n",
    "# Preview the dataset\n",
    "print(dataset)\n"
   ]
  },
  {
   "cell_type": "markdown",
   "id": "15ed2586",
   "metadata": {},
   "source": [
    "# correlation:"
   ]
  },
  {
   "cell_type": "code",
   "execution_count": 85,
   "id": "1caee3e6",
   "metadata": {},
   "outputs": [],
   "source": [
    "correlation_matrix = dataset.corr()"
   ]
  },
  {
   "cell_type": "code",
   "execution_count": 86,
   "id": "9c2d8bb7",
   "metadata": {},
   "outputs": [
    {
     "data": {
      "text/html": [
       "<div>\n",
       "<style scoped>\n",
       "    .dataframe tbody tr th:only-of-type {\n",
       "        vertical-align: middle;\n",
       "    }\n",
       "\n",
       "    .dataframe tbody tr th {\n",
       "        vertical-align: top;\n",
       "    }\n",
       "\n",
       "    .dataframe thead th {\n",
       "        text-align: right;\n",
       "    }\n",
       "</style>\n",
       "<table border=\"1\" class=\"dataframe\">\n",
       "  <thead>\n",
       "    <tr style=\"text-align: right;\">\n",
       "      <th></th>\n",
       "      <th>X</th>\n",
       "      <th>Y</th>\n",
       "      <th>Z</th>\n",
       "    </tr>\n",
       "  </thead>\n",
       "  <tbody>\n",
       "    <tr>\n",
       "      <th>X</th>\n",
       "      <td>1.000000</td>\n",
       "      <td>-0.288389</td>\n",
       "      <td>0.316712</td>\n",
       "    </tr>\n",
       "    <tr>\n",
       "      <th>Y</th>\n",
       "      <td>-0.288389</td>\n",
       "      <td>1.000000</td>\n",
       "      <td>0.813177</td>\n",
       "    </tr>\n",
       "    <tr>\n",
       "      <th>Z</th>\n",
       "      <td>0.316712</td>\n",
       "      <td>0.813177</td>\n",
       "      <td>1.000000</td>\n",
       "    </tr>\n",
       "  </tbody>\n",
       "</table>\n",
       "</div>"
      ],
      "text/plain": [
       "          X         Y         Z\n",
       "X  1.000000 -0.288389  0.316712\n",
       "Y -0.288389  1.000000  0.813177\n",
       "Z  0.316712  0.813177  1.000000"
      ]
     },
     "execution_count": 86,
     "metadata": {},
     "output_type": "execute_result"
    }
   ],
   "source": [
    "correlation_matrix"
   ]
  },
  {
   "cell_type": "markdown",
   "id": "040db5f0",
   "metadata": {},
   "source": [
    "# Scatter plot:"
   ]
  },
  {
   "cell_type": "code",
   "execution_count": 87,
   "id": "9db26407",
   "metadata": {},
   "outputs": [],
   "source": [
    "import numpy as np\n",
    "import matplotlib.pyplot as plt\n",
    "import seaborn as sns\n",
    "from mpl_toolkits.mplot3d import Axes3D"
   ]
  },
  {
   "cell_type": "code",
   "execution_count": 88,
   "id": "ed6be5f4",
   "metadata": {},
   "outputs": [
    {
     "data": {
      "text/plain": [
       "Text(0.5, 0.92, '3D Scatter Plot')"
      ]
     },
     "execution_count": 88,
     "metadata": {},
     "output_type": "execute_result"
    },
    {
     "data": {
      "image/png": "[encoded data removed]",
      "text/plain": [
       "<Figure size 640x480 with 1 Axes>"
      ]
     },
     "metadata": {},
     "output_type": "display_data"
    }
   ],
   "source": [
    "fig = plt.figure()\n",
    "ax = fig.add_subplot(111, projection='3d')\n",
    "\n",
    "# Plot data points\n",
    "ax.scatter(X, Y, Z, color='b', label='Data points')\n",
    "\n",
    "# Labels and title\n",
    "ax.set_xlabel('X Label')\n",
    "ax.set_ylabel('Y Label')\n",
    "ax.set_zlabel('Z Label')\n",
    "ax.set_title('3D Scatter Plot')"
   ]
  },
  {
   "cell_type": "markdown",
   "id": "c5cd1d17",
   "metadata": {},
   "source": [
    "# ANN Class \n"
   ]
  },
  {
   "cell_type": "markdown",
   "id": "9cc3d045",
   "metadata": {},
   "source": [
    "## according to the dataset the Structure that we are going to build is :"
   ]
  },
  {
   "cell_type": "code",
   "execution_count": 89,
   "id": "d0928552",
   "metadata": {},
   "outputs": [
    {
     "data": {
      "image/png": "[encoded data removed]",
      "text/plain": [
       "<Figure size 640x480 with 1 Axes>"
      ]
     },
     "metadata": {},
     "output_type": "display_data"
    }
   ],
   "source": [
    "import matplotlib.pyplot as plt\n",
    "import matplotlib.image as mpimg\n",
    "\n",
    "# Load the image using matplotlib\n",
    "image_path = 'archt.png'\n",
    "img = mpimg.imread(image_path)\n",
    "\n",
    "# Display the image\n",
    "plt.imshow(img)\n",
    "plt.axis('off')  # Hide axes\n",
    "plt.show()\n"
   ]
  },
  {
   "cell_type": "markdown",
   "id": "d4324e0e",
   "metadata": {},
   "source": [
    "# Parameter Initialization"
   ]
  },
  {
   "cell_type": "code",
   "execution_count": 90,
   "id": "26d2561e",
   "metadata": {},
   "outputs": [],
   "source": [
    "import numpy as np\n",
    "\n",
    "def initialize_parameters(layer_dims):\n",
    "    \"\"\"\n",
    "    Initialize the parameters of a neural network with random values.\n",
    "    Arguments:\n",
    "    layer_dims -- List containing the dimensions of each layer in the network.\n",
    "\n",
    "    Returns:\n",
    "    parameters -- Dictionary containing the initialized weights and biases.\n",
    "    \"\"\"\n",
    "    np.random.seed(3)  # Set a seed for reproducibility\n",
    "    parameters = {}\n",
    "    L = len(layer_dims)  # Number of layers including input and output layers\n",
    "\n",
    "    for l in range(1, L):\n",
    "        # He initialization for weights\n",
    "        parameters['W' + str(l)] = np.ones((layer_dims[l-1], layer_dims[l]))*0.1\n",
    "        # Zeros for biases\n",
    "        parameters['b' + str(l)] = np.zeros((layer_dims[l], 1))\n",
    "\n",
    "    return parameters\n"
   ]
  },
  {
   "cell_type": "code",
   "execution_count": 91,
   "id": "cbd03331",
   "metadata": {},
   "outputs": [
    {
     "data": {
      "text/plain": [
       "{'W1': array([[0.1, 0.1],\n",
       "        [0.1, 0.1]]),\n",
       " 'b1': array([[0.],\n",
       "        [0.]]),\n",
       " 'W2': array([[0.1],\n",
       "        [0.1]]),\n",
       " 'b2': array([[0.]])}"
      ]
     },
     "execution_count": 91,
     "metadata": {},
     "output_type": "execute_result"
    }
   ],
   "source": [
    "para=initialize_parameters([2,2,1]) #2-node input layer, 2 node in hidden layer, one output layer\n",
    "para"
   ]
  },
  {
   "cell_type": "markdown",
   "id": "0d777d00",
   "metadata": {},
   "source": [
    "weights are initialized with value 0.1 in first layer as well as second layer and biases are initialized by 0"
   ]
  },
  {
   "cell_type": "markdown",
   "id": "1b3835c7",
   "metadata": {},
   "source": [
    "# Calculation of output of any given node"
   ]
  },
  {
   "cell_type": "code",
   "execution_count": 92,
   "id": "92666768",
   "metadata": {},
   "outputs": [],
   "source": [
    "def linear_forward(A_prev, W, b):\n",
    "    \"\"\"\n",
    "    Implement the linear part of a layer's forward propagation.\n",
    "\n",
    "    Arguments:\n",
    "    A_prev -- Activations from previous layer (or input data), shape: (n_prev, m)\n",
    "    W -- Weights matrix, shape: (n_curr, n_prev)\n",
    "    b -- Bias vector, shape: (n_curr, 1)\n",
    "\n",
    "    Returns:\n",
    "    Z -- The input to the activation function, shape: (n_curr, m)\n",
    "    \"\"\"\n",
    "    Z = np.dot(W.T, A_prev) + b  # Adjust to W @ A_prev \n",
    "    return Z"
   ]
  },
  {
   "cell_type": "markdown",
   "id": "787da411",
   "metadata": {},
   "source": [
    "## Example of output for the sample input x=1 and Y=2 "
   ]
  },
  {
   "cell_type": "code",
   "execution_count": 93,
   "id": "e8fc21b3",
   "metadata": {},
   "outputs": [
    {
     "name": "stdout",
     "output_type": "stream",
     "text": [
      "Hidden layer output (A1):\n",
      "[[0.3]\n",
      " [0.3]]\n",
      "\n",
      "Output layer result (A_output):\n",
      "[[0.06]]\n"
     ]
    }
   ],
   "source": [
    "A_input = np.array([[1],\n",
    "                    [2]]) \n",
    "Z1 = linear_forward(A_input, para[\"W1\"], para[\"b1\"])  # Compute Z1\n",
    "A1 = Z1  # Linear activation function (A1 = Z1)\n",
    "\n",
    "# Hidden to Output Layer\n",
    "Z2 = linear_forward(A1, para[\"W2\"], para[\"b2\"])  # Compute Z2\n",
    "A_output = Z2  # Linear activation function (A_output = Z2)\n",
    "\n",
    "# Print results\n",
    "print(\"Hidden layer output (A1):\")\n",
    "print(A1)\n",
    "print(\"\\nOutput layer result (A_output):\")\n",
    "print(A_output)"
   ]
  },
  {
   "cell_type": "markdown",
   "id": "e73cddd7",
   "metadata": {},
   "source": [
    "# Forward Propagartion"
   ]
  },
  {
   "cell_type": "code",
   "execution_count": 96,
   "id": "42f22bd5",
   "metadata": {},
   "outputs": [],
   "source": [
    "# Forward Prop (The above cell is written inside a function)\n",
    "def L_layer_forward(X, parameters):\n",
    "\n",
    "  A = X\n",
    "  L = len(parameters) // 2                  # number of layers in the neural network\n",
    "  \n",
    "  for l in range(1, L+1):\n",
    "    A_prev = A \n",
    "    Wl = parameters['W' + str(l)]\n",
    "    bl = parameters['b' + str(l)]\n",
    "    print(\"A\"+str(l-1)+\": \", A_prev)\n",
    "    print(\"W\"+str(l)+\": \", Wl)\n",
    "    print(\"b\"+str(l)+\": \", bl)\n",
    "    print(\"--\"*20)\n",
    "\n",
    "    A = linear_forward(A_prev, Wl, bl)\n",
    "    print(\"A\"+str(l)+\": \", A)\n",
    "    print(\"**\"*20)\n",
    "          \n",
    "  return A,A_prev "
   ]
  },
  {
   "cell_type": "code",
   "execution_count": null,
   "id": "bc607efd",
   "metadata": {},
   "outputs": [],
   "source": []
  },
  {
   "cell_type": "markdown",
   "id": "798931b9",
   "metadata": {},
   "source": [
    "### Forward calculation in each layer:  with same example x1=1 and x2=2"
   ]
  },
  {
   "cell_type": "code",
   "execution_count": 97,
   "id": "8294ca50",
   "metadata": {},
   "outputs": [
    {
     "name": "stdout",
     "output_type": "stream",
     "text": [
      "A0:  [[1]\n",
      " [2]]\n",
      "W1:  [[0.1 0.1]\n",
      " [0.1 0.1]]\n",
      "b1:  [[0.]\n",
      " [0.]]\n",
      "----------------------------------------\n",
      "A1:  [[0.3]\n",
      " [0.3]]\n",
      "****************************************\n",
      "A1:  [[0.3]\n",
      " [0.3]]\n",
      "W2:  [[0.1]\n",
      " [0.1]]\n",
      "b2:  [[0.]]\n",
      "----------------------------------------\n",
      "A2:  [[0.06]]\n",
      "****************************************\n"
     ]
    },
    {
     "data": {
      "text/plain": [
       "(array([[0.06]]),\n",
       " array([[0.3],\n",
       "        [0.3]]))"
      ]
     },
     "execution_count": 97,
     "metadata": {},
     "output_type": "execute_result"
    }
   ],
   "source": [
    "L_layer_forward(A_input,para)"
   ]
  },
  {
   "cell_type": "markdown",
   "id": "c27bb76f",
   "metadata": {},
   "source": [
    "## Parameter Updation for backpropagation with SGD:"
   ]
  },
  {
   "cell_type": "code",
   "execution_count": 98,
   "id": "735c643f",
   "metadata": {},
   "outputs": [],
   "source": [
    "def update_parameters(parameters,y,y_hat,A1,X):\n",
    "  parameters['W2'][0][0] = parameters['W2'][0][0] + (0.001 * 2 * (y - y_hat)*A1[0][0])\n",
    "  parameters['W2'][1][0] = parameters['W2'][1][0] + (0.001 * 2 * (y - y_hat)*A1[1][0])\n",
    "  parameters['b2'][0][0] = parameters['W2'][1][0] + (0.001 * 2 * (y - y_hat))\n",
    "\n",
    "  parameters['W1'][0][0] = parameters['W1'][0][0] + (0.001 * 2 * (y - y_hat)*parameters['W2'][0][0]*X[0][0])\n",
    "  parameters['W1'][0][1] = parameters['W1'][0][1] + (0.001 * 2 * (y - y_hat)*parameters['W2'][0][0]*X[1][0])\n",
    "  parameters['b1'][0][0] = parameters['b1'][0][0] + (0.001 * 2 * (y - y_hat)*parameters['W2'][0][0])\n",
    "\n",
    "  parameters['W1'][1][0] = parameters['W1'][1][0] + (0.001 * 2 * (y - y_hat)*parameters['W2'][1][0]*X[0][0])\n",
    "  parameters['W1'][1][1] = parameters['W1'][1][1] + (0.001 * 2 * (y - y_hat)*parameters['W2'][1][0]*X[1][0])\n",
    "  parameters['b1'][1][0] = parameters['b1'][1][0] + (0.001 * 2 * (y - y_hat)*parameters['W2'][1][0])"
   ]
  },
  {
   "cell_type": "markdown",
   "id": "08afe340",
   "metadata": {},
   "source": [
    "SGD is used here. derivation of formulas are given in note. A1 is the output before output layer it helps to calculate parameters."
   ]
  },
  {
   "cell_type": "markdown",
   "id": "89fd8e0d",
   "metadata": {},
   "source": [
    "## Now let us see an example how the parameters will be updated ? just one step "
   ]
  },
  {
   "cell_type": "code",
   "execution_count": 99,
   "id": "23770c36",
   "metadata": {},
   "outputs": [
    {
     "name": "stdout",
     "output_type": "stream",
     "text": [
      "A0:  [[3.74540119]\n",
      " [1.5599452 ]]\n",
      "W1:  [[0.1 0.1]\n",
      " [0.1 0.1]]\n",
      "b1:  [[0.]\n",
      " [0.]]\n",
      "----------------------------------------\n",
      "A1:  [[0.53053464]\n",
      " [0.53053464]]\n",
      "****************************************\n",
      "A1:  [[0.53053464]\n",
      " [0.53053464]]\n",
      "W2:  [[0.1]\n",
      " [0.1]]\n",
      "b2:  [[0.]]\n",
      "----------------------------------------\n",
      "A2:  [[0.10610693]]\n",
      "****************************************\n"
     ]
    },
    {
     "data": {
      "text/plain": [
       "0.10610692783671304"
      ]
     },
     "execution_count": 99,
     "metadata": {},
     "output_type": "execute_result"
    }
   ],
   "source": [
    "X = dataset[['X', 'Y']].values[0].reshape(2,1) # Shape(no of features, no. of training example)\n",
    "y = dataset[['Z']].values[0][0]\n",
    "\n",
    "# Parameter initialization\n",
    "parameters = initialize_parameters([2,2,1])\n",
    "\n",
    "y_hat,A1 = L_layer_forward(X, parameters)\n",
    "\n",
    "y_hat=y_hat[0][0]\n",
    "y_hat"
   ]
  },
  {
   "cell_type": "code",
   "execution_count": 100,
   "id": "274c8a59",
   "metadata": {},
   "outputs": [],
   "source": [
    "update_parameters(parameters,y,y_hat,A1,X)"
   ]
  },
  {
   "cell_type": "code",
   "execution_count": 101,
   "id": "e89a963c",
   "metadata": {},
   "outputs": [
    {
     "data": {
      "text/plain": [
       "{'W1': array([[0.10931778, 0.10388082],\n",
       "        [0.10931778, 0.10388082]]),\n",
       " 'b1': array([[0.00248779],\n",
       "        [0.00248779]]),\n",
       " 'W2': array([[0.11180501],\n",
       "        [0.11180501]]),\n",
       " 'b2': array([[0.13405618]])}"
      ]
     },
     "execution_count": 101,
     "metadata": {},
     "output_type": "execute_result"
    }
   ],
   "source": [
    "parameters"
   ]
  },
  {
   "cell_type": "code",
   "execution_count": 102,
   "id": "17a0ef9f",
   "metadata": {},
   "outputs": [
    {
     "name": "stdout",
     "output_type": "stream",
     "text": [
      "A0:  [[3.74540119]\n",
      " [1.5599452 ]]\n",
      "W1:  [[0.10931778 0.10388082]\n",
      " [0.10931778 0.10388082]]\n",
      "b1:  [[0.00248779]\n",
      " [0.00248779]]\n",
      "----------------------------------------\n",
      "A1:  [[0.58245647]\n",
      " [0.55361152]]\n",
      "****************************************\n",
      "A1:  [[0.58245647]\n",
      " [0.55361152]]\n",
      "W2:  [[0.11180501]\n",
      " [0.11180501]]\n",
      "b2:  [[0.13405618]]\n",
      "----------------------------------------\n",
      "A2:  [[0.26107428]]\n",
      "****************************************\n"
     ]
    },
    {
     "data": {
      "text/plain": [
       "0.26107427528976423"
      ]
     },
     "execution_count": 102,
     "metadata": {},
     "output_type": "execute_result"
    }
   ],
   "source": [
    "y_hat,A1 = L_layer_forward(X, parameters)\n",
    "\n",
    "y_hat=y_hat[0][0]\n",
    "y_hat"
   ]
  },
  {
   "cell_type": "markdown",
   "id": "d4533251",
   "metadata": {},
   "source": [
    "# Ultimate Implementation"
   ]
  },
  {
   "cell_type": "code",
   "execution_count": 103,
   "id": "0b9711f1",
   "metadata": {},
   "outputs": [
    {
     "name": "stdout",
     "output_type": "stream",
     "text": [
      "A0:  [[3.74540119]\n",
      " [1.5599452 ]]\n",
      "W1:  [[0.1 0.1]\n",
      " [0.1 0.1]]\n",
      "b1:  [[0.]\n",
      " [0.]]\n",
      "----------------------------------------\n",
      "A1:  [[0.53053464]\n",
      " [0.53053464]]\n",
      "****************************************\n",
      "A1:  [[0.53053464]\n",
      " [0.53053464]]\n",
      "W2:  [[0.1]\n",
      " [0.1]]\n",
      "b2:  [[0.]]\n",
      "----------------------------------------\n",
      "A2:  [[0.10610693]]\n",
      "****************************************\n",
      "A0:  [[9.50714306]\n",
      " [0.58083612]]\n",
      "W1:  [[0.10931778 0.10388082]\n",
      " [0.10931778 0.10388082]]\n",
      "b1:  [[0.00248779]\n",
      " [0.00248779]]\n",
      "----------------------------------------\n",
      "A1:  [[1.10528326]\n",
      " [1.05043533]]\n",
      "****************************************\n",
      "A1:  [[1.10528326]\n",
      " [1.05043533]]\n",
      "W2:  [[0.11180501]\n",
      " [0.11180501]]\n",
      "b2:  [[0.13405618]]\n",
      "----------------------------------------\n",
      "A2:  [[0.37507632]]\n",
      "****************************************\n",
      "A0:  [[7.31993942]\n",
      " [8.66176146]]\n",
      "W1:  [[0.17432353 0.10785233]\n",
      " [0.17336235 0.1077936 ]]\n",
      "b1:  [[0.00932536]\n",
      " [0.00922426]]\n",
      "----------------------------------------\n",
      "A1:  [[2.78698633]\n",
      " [1.73237923]]\n",
      "****************************************\n",
      "A1:  [[2.78698633]\n",
      " [1.73237923]]\n",
      "W2:  [[0.15925889]\n",
      " [0.15690406]]\n",
      "b2:  [[0.19983774]]\n",
      "----------------------------------------\n",
      "A2:  [[0.91550743]]\n",
      "****************************************\n",
      "A0:  [[5.98658484]\n",
      " [6.01115012]]\n",
      "W1:  [[0.38748545 0.36008907]\n",
      " [0.33874247 0.30348965]]\n",
      "b1:  [[0.03844608]\n",
      " [0.03181736]]\n",
      "----------------------------------------\n",
      "A1:  [[4.39439246]\n",
      " [4.01184299]]\n",
      "****************************************\n",
      "A1:  [[4.39439246]\n",
      " [4.01184299]]\n",
      "W2:  [[0.37543327]\n",
      " [0.29127717]]\n",
      "b2:  [[0.36884281]]\n",
      "----------------------------------------\n",
      "A2:  [[3.1872022]]\n",
      "****************************************\n",
      "A0:  [[1.5601864 ]\n",
      " [7.08072578]]\n",
      "W1:  [[0.57437855 0.54774906]\n",
      " [0.49341112 0.45879296]]\n",
      "b1:  [[0.06966473]\n",
      " [0.05765323]]\n",
      "----------------------------------------\n",
      "A1:  [[4.45951114]\n",
      " [4.16083099]]\n",
      "****************************************\n",
      "A1:  [[4.45951114]\n",
      " [4.16083099]]\n",
      "W2:  [[0.60295697]\n",
      " [0.49899402]]\n",
      "b2:  [[0.55076993]]\n",
      "----------------------------------------\n",
      "A2:  [[5.31589301]]\n",
      "****************************************\n",
      "Epoch -  1 Loss -  628.0681781523494\n",
      "A0:  [[3.74540119]\n",
      " [1.5599452 ]]\n",
      "W1:  [[0.6217402  0.76269447]\n",
      " [0.53372598 0.64175733]]\n",
      "b1:  [[0.10002114]\n",
      " [0.08349301]]\n",
      "----------------------------------------\n",
      "A1:  [[3.26127092]\n",
      " [3.94119605]]\n",
      "****************************************\n",
      "A1:  [[3.26127092]\n",
      " [3.94119605]]\n",
      "W2:  [[0.77715066]\n",
      " [0.66152092]]\n",
      "b2:  [[0.70058208]]\n",
      "----------------------------------------\n",
      "A2:  [[5.84226455]]\n",
      "****************************************\n",
      "A0:  [[9.50714306]\n",
      " [0.58083612]]\n",
      "W1:  [[0.6545338  0.77635288]\n",
      " [0.56214735 0.65359472]]\n",
      "b1:  [[0.10877684]\n",
      " [0.09108135]]\n",
      "----------------------------------------\n",
      "A1:  [[6.65803877]\n",
      " [7.85161063]]\n",
      "****************************************\n",
      "A1:  [[6.65803877]\n",
      " [7.85161063]]\n",
      "W2:  [[0.81230341]\n",
      " [0.70400247]]\n",
      "b2:  [[0.71478132]]\n",
      "----------------------------------------\n",
      "A2:  [[11.65068221]]\n",
      "****************************************\n",
      "A0:  [[7.31993942]\n",
      " [8.66176146]]\n",
      "W1:  [[0.83823836 0.78757625]\n",
      " [0.72957971 0.66382395]]\n",
      "b1:  [[0.12809963]\n",
      " [0.10869256]]\n",
      "----------------------------------------\n",
      "A1:  [[12.58339903]\n",
      " [11.62358772]]\n",
      "****************************************\n",
      "A1:  [[12.58339903]\n",
      " [11.62358772]]\n",
      "W2:  [[0.94801065]\n",
      " [0.86403765]]\n",
      "b2:  [[0.88442012]]\n",
      "----------------------------------------\n",
      "A2:  [[22.85683382]]\n",
      "****************************************\n",
      "A0:  [[5.98658484]\n",
      " [6.01115012]]\n",
      "W1:  [[1.17647993 1.18782107]\n",
      " [1.03914608 1.0301371 ]]\n",
      "b1:  [[0.17430788]\n",
      " [0.1509834 ]]\n",
      "----------------------------------------\n",
      "A1:  [[13.46386786]\n",
      " [13.45428374]]\n",
      "****************************************\n",
      "A1:  [[13.46386786]\n",
      " [13.45428374]]\n",
      "W2:  [[1.37185713]\n",
      " [1.25555482]]\n",
      "b2:  [[1.28923781]]\n",
      "----------------------------------------\n",
      "A2:  [[36.65233164]]\n",
      "****************************************\n",
      "A0:  [[1.5601864 ]\n",
      " [7.08072578]]\n",
      "W1:  [[1.07053198 1.08143838]\n",
      " [0.94373622 0.93433574]]\n",
      "b1:  [[0.15661032]\n",
      " [0.13504612]]\n",
      "----------------------------------------\n",
      "A1:  [[8.50917717]\n",
      " [8.43806673]]\n",
      "****************************************\n",
      "A1:  [[8.50917717]\n",
      " [8.43806673]]\n",
      "W2:  [[1.16782107]\n",
      " [1.051664  ]]\n",
      "b2:  [[1.03650966]]\n",
      "----------------------------------------\n",
      "A2:  [[19.84771699]]\n",
      "****************************************\n",
      "Epoch -  2 Loss -  99.7888272596561\n",
      "A0:  [[3.74540119]\n",
      " [1.5599452 ]]\n",
      "W1:  [[1.09007457 1.17013016]\n",
      " [0.96145591 1.01475448]]\n",
      "b1:  [[0.16913612]\n",
      " [0.14640354]]\n",
      "----------------------------------------\n",
      "A1:  [[5.75172126]\n",
      " [6.11197181]]\n",
      "****************************************\n",
      "A1:  [[5.75172126]\n",
      " [6.11197181]]\n",
      "W2:  [[1.25289169]\n",
      " [1.1360237 ]]\n",
      "b2:  [[1.14602121]]\n",
      "----------------------------------------\n",
      "A2:  [[15.29564983]]\n",
      "****************************************\n",
      "A0:  [[9.50714306]\n",
      " [0.58083612]]\n",
      "W1:  [[1.0533568  1.15483735]\n",
      " [0.92838501 1.00098057]]\n",
      "b1:  [[0.15933269]\n",
      " [0.1375738 ]]\n",
      "----------------------------------------\n",
      "A1:  [[10.71298605]\n",
      " [11.69818337]]\n",
      "****************************************\n",
      "A1:  [[10.71298605]\n",
      " [11.69818337]]\n",
      "W2:  [[1.20614216]\n",
      " [1.08634607]]\n",
      "b2:  [[1.07821815]]\n",
      "----------------------------------------\n",
      "A2:  [[26.70787782]]\n",
      "****************************************\n",
      "A0:  [[7.31993942]\n",
      " [8.66176146]]\n",
      "W1:  [[0.95140737 1.14860878]\n",
      " [0.83840655 0.99548337]]\n",
      "b1:  [[0.14860924]\n",
      " [0.1281095 ]]\n",
      "----------------------------------------\n",
      "A1:  [[14.37493108]\n",
      " [17.15849562]]\n",
      "****************************************\n",
      "A1:  [[14.37493108]\n",
      " [17.15849562]]\n",
      "W2:  [[1.10188416]\n",
      " [0.97250021]]\n",
      "b2:  [[0.96276829]]\n",
      "----------------------------------------\n",
      "A2:  [[33.48891787]]\n",
      "****************************************\n",
      "A0:  [[5.98658484]\n",
      " [6.01115012]]\n",
      "W1:  [[1.0678025  1.28634035]\n",
      " [0.94618248 1.12301576]]\n",
      "b1:  [[0.16451034]\n",
      " [0.14283311]]\n",
      "----------------------------------------\n",
      "A1:  [[12.2446455 ]\n",
      " [14.59423511]]\n",
      "****************************************\n",
      "A1:  [[12.2446455 ]\n",
      " [14.59423511]]\n",
      "W2:  [[1.28040385]\n",
      " [1.18558848]]\n",
      "b2:  [[1.1980073]]\n",
      "----------------------------------------\n",
      "A2:  [[34.17885551]]\n",
      "****************************************\n",
      "A0:  [[1.5601864 ]\n",
      " [7.08072578]]\n",
      "W1:  [[0.9971979  1.21544604]\n",
      " [0.88283735 1.05941071]]\n",
      "b1:  [[0.15271654]\n",
      " [0.13225193]]\n",
      "----------------------------------------\n",
      "A1:  [[7.95966036]\n",
      " [9.52997103]]\n",
      "****************************************\n",
      "A1:  [[7.95966036]\n",
      " [9.52997103]]\n",
      "W2:  [[1.15541797]\n",
      " [1.03661943]]\n",
      "b2:  [[1.02641204]]\n",
      "----------------------------------------\n",
      "A2:  [[20.10209983]]\n",
      "****************************************\n",
      "Epoch -  3 Loss -  25.461388269687095\n",
      "A0:  [[3.74540119]\n",
      " [1.5599452 ]]\n",
      "W1:  [[1.01542108 1.29814985]\n",
      " [0.8995224  1.13513388]]\n",
      "b1:  [[0.16439667]\n",
      " [0.1429462 ]]\n",
      "----------------------------------------\n",
      "A1:  [[5.37076166]\n",
      " [6.77578482]]\n",
      "****************************************\n",
      "A1:  [[5.37076166]\n",
      " [6.77578482]]\n",
      "W2:  [[1.2309452 ]\n",
      " [1.12704694]]\n",
      "b2:  [[1.13653569]]\n",
      "----------------------------------------\n",
      "A2:  [[15.38427652]]\n",
      "****************************************\n",
      "A0:  [[9.50714306]\n",
      " [0.58083612]]\n",
      "W1:  [[0.97851854 1.28278008]\n",
      " [0.86621472 1.12126135]]\n",
      "b1:  [[0.15454391]\n",
      " [0.13405325]]\n",
      "----------------------------------------\n",
      "A1:  [[ 9.96058844]\n",
      " [12.98089605]]\n",
      "****************************************\n",
      "A1:  [[ 9.96058844]\n",
      " [12.98089605]]\n",
      "W2:  [[1.18634008]\n",
      " [1.07077287]]\n",
      "b2:  [[1.06246769]]\n",
      "----------------------------------------\n",
      "A2:  [[26.77870429]]\n",
      "****************************************\n",
      "A0:  [[7.31993942]\n",
      " [8.66176146]]\n",
      "W1:  [[0.8763891  1.27654051]\n",
      " [0.77773283 1.11585558]]\n",
      "b1:  [[0.14380152]\n",
      " [0.12474636]]\n",
      "----------------------------------------\n",
      "A1:  [[13.29545292]\n",
      " [19.13422038]]\n",
      "****************************************\n",
      "A1:  [[13.29545292]\n",
      " [19.13422038]]\n",
      "W2:  [[1.08799342]\n",
      " [0.94260496]]\n",
      "b2:  [[0.93273138]]\n",
      "----------------------------------------\n",
      "A2:  [[33.43410771]]\n",
      "****************************************\n",
      "A0:  [[5.98658484]\n",
      " [6.01115012]]\n",
      "W1:  [[0.991442   1.41268382]\n",
      " [0.88616098 1.24415975]]\n",
      "b1:  [[0.15951926]\n",
      " [0.13955907]]\n",
      "----------------------------------------\n",
      "A1:  [[11.42171762]\n",
      " [16.07554163]]\n",
      "****************************************\n",
      "A1:  [[11.42171762]\n",
      " [16.07554163]]\n",
      "W2:  [[1.25456471]\n",
      " [1.18232689]]\n",
      "b2:  [[1.19485533]]\n",
      "----------------------------------------\n",
      "A2:  [[34.5306844]]\n",
      "****************************************\n",
      "A0:  [[1.5601864 ]\n",
      " [7.08072578]]\n",
      "W1:  [[0.9176343  1.33857325]\n",
      " [0.82038867 1.17811755]]\n",
      "b1:  [[0.14719041]\n",
      " [0.12857246]]\n",
      "----------------------------------------\n",
      "A1:  [[ 7.38781818]\n",
      " [10.55892357]]\n",
      "****************************************\n",
      "A1:  [[ 7.38781818]\n",
      " [10.55892357]]\n",
      "W2:  [[1.12994181]\n",
      " [1.00692589]]\n",
      "b2:  [[0.99601484]]\n",
      "----------------------------------------\n",
      "A2:  [[19.97587298]]\n",
      "****************************************\n",
      "Epoch -  4 Loss -  26.868365868160872\n",
      "A0:  [[3.74540119]\n",
      " [1.5599452 ]]\n",
      "W1:  [[0.93590101 1.42147461]\n",
      " [0.83725525 1.25466457]]\n",
      "b1:  [[0.15889844]\n",
      " [0.13938307]]\n",
      "----------------------------------------\n",
      "A1:  [[4.97029552]\n",
      " [7.42058373]]\n",
      "****************************************\n",
      "A1:  [[4.97029552]\n",
      " [7.42058373]]\n",
      "W2:  [[1.20190804]\n",
      " [1.10978251]]\n",
      "b2:  [[1.11952372]]\n",
      "----------------------------------------\n",
      "A2:  [[15.32859595]]\n",
      "****************************************\n",
      "A0:  [[9.50714306]\n",
      " [0.58083612]]\n",
      "W1:  [[0.90026535 1.40663249]\n",
      " [0.80506299 1.24125662]]\n",
      "b1:  [[0.14938393]\n",
      " [0.13078793]]\n",
      "----------------------------------------\n",
      "A1:  [[ 9.17594506]\n",
      " [14.22481094]]\n",
      "****************************************\n",
      "A1:  [[ 9.17594506]\n",
      " [14.22481094]]\n",
      "W2:  [[1.16118237]\n",
      " [1.04897963]]\n",
      "b2:  [[1.04078582]]\n",
      "----------------------------------------\n",
      "A2:  [[26.61726844]]\n",
      "****************************************\n",
      "A0:  [[7.31993942]\n",
      " [8.66176146]]\n",
      "W1:  [[0.80278747 1.40067711]\n",
      " [0.7221515  1.23619116]]\n",
      "b1:  [[0.13913081]\n",
      " [0.12206696]]\n",
      "----------------------------------------\n",
      "A1:  [[12.27059051]\n",
      " [21.08253151]]\n",
      "****************************************\n",
      "A1:  [[12.27059051]\n",
      " [21.08253151]]\n",
      "W2:  [[1.0735456 ]\n",
      " [0.91312262]]\n",
      "b2:  [[0.90357192]]\n",
      "----------------------------------------\n",
      "A2:  [[33.32754685]]\n",
      "****************************************\n",
      "A0:  [[5.98658484]\n",
      " [6.01115012]]\n",
      "W1:  [[0.91749638 1.53641337]\n",
      " [0.83237005 1.36661393]]\n",
      "b1:  [[0.15480156]\n",
      " [0.13712426]]\n",
      "----------------------------------------\n",
      "A1:  [[10.65097279]\n",
      " [17.54991475]]\n",
      "****************************************\n",
      "A1:  [[10.65097279]\n",
      " [17.54991475]]\n",
      "W2:  [[1.22989209]\n",
      " [1.181747  ]]\n",
      "b2:  [[1.19448857]]\n",
      "----------------------------------------\n",
      "A2:  [[35.03359494]]\n",
      "****************************************\n",
      "A0:  [[1.5601864 ]\n",
      " [7.08072578]]\n",
      "W1:  [[0.83880931 1.45740342]\n",
      " [0.76298296 1.29694211]]\n",
      "b1:  [[0.14165766]\n",
      " [0.12553384]]\n",
      "----------------------------------------\n",
      "A1:  [[ 6.85282964]\n",
      " [11.5826463 ]]\n",
      "****************************************\n",
      "A1:  [[ 6.85282964]\n",
      " [11.5826463 ]]\n",
      "W2:  [[1.10296584]\n",
      " [0.97260697]]\n",
      "b2:  [[0.9606901]]\n",
      "----------------------------------------\n",
      "A2:  [[19.78448968]]\n",
      "****************************************\n",
      "Epoch -  5 Loss -  28.260426458370887\n"
     ]
    },
    {
     "data": {
      "text/plain": [
       "{'W1': array([[0.85732681, 1.54144294],\n",
       "        [0.78019775, 1.37506946]]),\n",
       " 'b1': array([[0.15352643],\n",
       "        [0.13656764]]),\n",
       " 'W2': array([[1.17234369],\n",
       "        [1.08986934]]),\n",
       " 'b2': array([[1.09999331]])}"
      ]
     },
     "execution_count": 103,
     "metadata": {},
     "output_type": "execute_result"
    }
   ],
   "source": [
    "# epochs implementation\n",
    "\n",
    "parameters = initialize_parameters([2,2,1])\n",
    "epochs =5\n",
    "\n",
    "for i in range(epochs):\n",
    "\n",
    "  Loss = []\n",
    "\n",
    "  for j in range(dataset.shape[0]):\n",
    "\n",
    "    X = dataset[['X', 'Y']].values[j].reshape(2,1) # Shape(no of features, no. of training example)\n",
    "    y = dataset[['Z']].values[j][0]\n",
    "\n",
    "    # Parameter initialization\n",
    "\n",
    "\n",
    "    y_hat,A1 = L_layer_forward(X,parameters)\n",
    "    y_hat = y_hat[0][0]\n",
    "\n",
    "    update_parameters(parameters,y,y_hat,A1,X)\n",
    "    #print(\"-----------------LOSS\")\n",
    "    #print((y-y_hat)**2)\n",
    "\n",
    "    Loss.append((y-y_hat)**2)\n",
    "\n",
    "  print('Epoch - ',i+1,'Loss - ',np.array(Loss).mean())\n",
    "\n",
    "parameters"
   ]
  },
  {
   "cell_type": "code",
   "execution_count": null,
   "id": "3319cfd1",
   "metadata": {},
   "outputs": [],
   "source": []
  }
 ],
 "metadata": {
  "kernelspec": {
   "display_name": "Python 3 (ipykernel)",
   "language": "python",
   "name": "python3"
  },
  "language_info": {
   "codemirror_mode": {
    "name": "ipython",
    "version": 3
   },
   "file_extension": ".py",
   "mimetype": "text/x-python",
   "name": "python",
   "nbconvert_exporter": "python",
   "pygments_lexer": "ipython3",
   "version": "3.9.13"
  }
 },
 "nbformat": 4,
 "nbformat_minor": 5
}
